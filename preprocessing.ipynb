{
 "cells": [
  {
   "cell_type": "code",
   "execution_count": 1,
   "id": "dadd89e1",
   "metadata": {},
   "outputs": [],
   "source": [
    "import pandas as pd\n",
    "import os\n",
    "import warnings\n",
    "from scipy.stats import ttest_ind\n",
    "from lifelines import CoxPHFitter\n",
    "from scipy import stats\n",
    "from sklearn import preprocessing\n",
    "import numpy as np\n",
    "from sklearn import preprocessing\n",
    "import seaborn as sns\n",
    "import matplotlib.pyplot as plt\n",
    "from statsmodels.stats.outliers_influence import variance_inflation_factor\n",
    "from sklearn.linear_model import LogisticRegression \n",
    "from sklearn.tree import DecisionTreeClassifier\n",
    "from sklearn.ensemble import RandomForestClassifier, ExtraTreesClassifier\n",
    "from sklearn import model_selection\n",
    "\n",
    "warnings.filterwarnings('ignore')"
   ]
  },
  {
   "cell_type": "markdown",
   "id": "32874f73",
   "metadata": {},
   "source": [
    "### General Notes\n",
    "The code assumes that in the working directory we have the following structure:\n",
    "- maf folder with the download content of tcga masked maf files \n",
    "- counts folder with the download content of tcga star counts\n",
    "- sample sheets for both counts and maf dowload data\n",
    "- clinical info file (TCGA)\n",
    "- clinical info file (cbioportal)"
   ]
  },
  {
   "cell_type": "markdown",
   "id": "ad198b28",
   "metadata": {},
   "source": [
    "## Cbioportal\n",
    "### Survival info"
   ]
  },
  {
   "cell_type": "code",
   "execution_count": 2,
   "id": "d6434bb1",
   "metadata": {},
   "outputs": [],
   "source": [
    "surv_df = pd.read_csv('combined_study_clinical_data(3).tsv',sep = '\\t')\n",
    "survival = surv_df[['Patient ID','Months of disease-specific survival','Disease Free (Months)','Disease Free Status','Year Cancer Initial Diagnosis']]\n",
    "survival['DFS_binary'] = survival['Disease Free Status'].str[0]\n",
    "survival['DFS_months'] = survival[['Disease Free (Months)', 'Months of disease-specific survival']].mean(axis=1, skipna=True)"
   ]
  },
  {
   "cell_type": "markdown",
   "id": "2f9fc21a",
   "metadata": {},
   "source": [
    "## Endpoint\n",
    "#### Binary\n"
   ]
  },
  {
   "cell_type": "code",
   "execution_count": 3,
   "id": "c22e7c5e",
   "metadata": {},
   "outputs": [],
   "source": [
    "#print(survival['DFS_binary'].corr(survival['Year Cancer Initial Diagnosis']))\n",
    "binary_DFS = dict(zip(survival['Patient ID'].tolist(), survival['DFS_binary'].tolist()))\n",
    "surv_df = surv_df[surv_df['Patient ID'].isin(list(binary_DFS.keys()))]\n",
    "surv_df = surv_df[['Patient ID','Age','BMI','FIGO Stage','Histologic FIGO Grade','p53','POLE Subtype','TMB (nonsynonymous)','POLE ultra-mutated','Pregnancies full term count']]"
   ]
  },
  {
   "cell_type": "markdown",
   "id": "c304bdd2",
   "metadata": {},
   "source": [
    "#### Quantitative (months)\n",
    "Months info on disease free survival is quite correlated with the year of diagnosis, a weighted approach may be needed (400 samples).\n"
   ]
  },
  {
   "cell_type": "code",
   "execution_count": 4,
   "id": "f56dfe9b",
   "metadata": {},
   "outputs": [
    {
     "name": "stdout",
     "output_type": "stream",
     "text": [
      "-0.6867952512342571\n"
     ]
    }
   ],
   "source": [
    "print(survival['DFS_months'].corr(survival['Year Cancer Initial Diagnosis']))\n",
    "survival = survival[survival['Year Cancer Initial Diagnosis'].notna()]\n",
    "survival = survival[survival['DFS_months'].notna()]\n",
    "months_DFS = dict(zip(survival['Patient ID'].tolist(), survival['DFS_months'].tolist()))\n",
    "survival = survival[['Patient ID', 'DFS_binary','DFS_months']]"
   ]
  },
  {
   "cell_type": "markdown",
   "id": "9e8d0b3e",
   "metadata": {},
   "source": [
    "#### Merging Survival Info"
   ]
  },
  {
   "cell_type": "code",
   "execution_count": 5,
   "id": "16be9bd6",
   "metadata": {},
   "outputs": [],
   "source": [
    "survival = survival.merge(surv_df,right_on = 'Patient ID',left_on = 'Patient ID')\n",
    "survival = survival[['Patient ID','DFS_binary','DFS_months','Age','Pregnancies full term count']]"
   ]
  },
  {
   "cell_type": "markdown",
   "id": "489d4685",
   "metadata": {},
   "source": [
    "#### Full term pregnancies subset"
   ]
  },
  {
   "cell_type": "code",
   "execution_count": 6,
   "id": "0d11658e",
   "metadata": {},
   "outputs": [],
   "source": [
    "preg = survival[survival['Pregnancies full term count'].notna()]"
   ]
  },
  {
   "cell_type": "markdown",
   "id": "9cd0909a",
   "metadata": {},
   "source": [
    "#### Final DFS Info"
   ]
  },
  {
   "cell_type": "code",
   "execution_count": 7,
   "id": "0d9adb9c",
   "metadata": {},
   "outputs": [],
   "source": [
    "survival = survival.drop_duplicates('Patient ID').drop('Pregnancies full term count',axis=1)"
   ]
  },
  {
   "cell_type": "markdown",
   "id": "693df25c",
   "metadata": {},
   "source": [
    "# Expression Level Matrix\n",
    "- FPKM normalization used"
   ]
  },
  {
   "cell_type": "markdown",
   "id": "56c5bc74",
   "metadata": {},
   "source": [
    "### Levels Extraction and Merge"
   ]
  },
  {
   "cell_type": "code",
   "execution_count": 8,
   "id": "7da6bb07",
   "metadata": {},
   "outputs": [],
   "source": [
    "campioni=pd.read_csv('gdc_sample_sheet.2022-04-28.tsv',sep='\\t') # dataframe con nome campione + nome tcga (due colonne da fare a mano seguento i file txt nella cartella)"
   ]
  },
  {
   "cell_type": "code",
   "execution_count": 9,
   "id": "ff262e51",
   "metadata": {},
   "outputs": [],
   "source": [
    "dfs={}\n",
    "pattern='gene_counts.tsv' #definire pattern nel nome della matrice di espressione normalizzata\n",
    "folders = os.listdir(os.getcwd()+'/files')\n",
    "folders.remove('.DS_Store')\n",
    "\n",
    "for subdir in folders:\n",
    "    files = os.listdir(os.getcwd()+'/files/'+subdir)\n",
    "    filelist = [f for f in files if f.endswith(f'{pattern}')]\n",
    "    file = os.getcwd()+'/files/'+subdir+'/'+filelist[0]\n",
    "    df_tmp=pd.read_csv(file,sep='\\t',skiprows=1)\n",
    "    df_tmp = df_tmp[df_tmp['gene_name'].notna()].sort_values(by='gene_name')\n",
    "    dfs[filelist[0]]=df_tmp['fpkm_unstranded'].tolist()\n",
    "    genes = df_tmp['gene_name']"
   ]
  },
  {
   "cell_type": "markdown",
   "id": "91ed1a3c",
   "metadata": {},
   "source": [
    "### Renaming Samples and Tumor/Normal Splitting"
   ]
  },
  {
   "cell_type": "code",
   "execution_count": 10,
   "id": "240dd84c",
   "metadata": {},
   "outputs": [],
   "source": [
    "matrix = pd.DataFrame.from_dict(dfs)\n",
    "matrix.index = genes"
   ]
  },
  {
   "cell_type": "code",
   "execution_count": 11,
   "id": "deb9d925",
   "metadata": {},
   "outputs": [],
   "source": [
    "d = dict(zip(campioni['File Name'].tolist(),campioni['Sample ID'].tolist()))\n",
    "matrix = matrix.rename(columns = d)\n",
    "l = matrix.columns.to_list()\n",
    "tumor = [e for e in l if e.endswith('01A')] + [e for e in l if e.endswith('01B')]\n",
    "normal_blood = [e for e in l if e.endswith('11A')] + [e for e in l if e.endswith('11B')]"
   ]
  },
  {
   "cell_type": "markdown",
   "id": "69fe6878",
   "metadata": {},
   "source": [
    "### Filtering and export"
   ]
  },
  {
   "cell_type": "code",
   "execution_count": 12,
   "id": "0199e70c",
   "metadata": {},
   "outputs": [],
   "source": [
    "matrix['sum'] = matrix.sum(axis=1)\n",
    "matrix = matrix[matrix['sum'] != 0 ]\n",
    "matrix = matrix.drop('sum',axis=1)\n",
    "tum_matrix = matrix[tumor]\n",
    "norm_matrix = matrix[normal_blood]"
   ]
  },
  {
   "cell_type": "code",
   "execution_count": 13,
   "id": "0a4cd37d",
   "metadata": {},
   "outputs": [],
   "source": [
    "tum_matrix.columns = [e[:-4] for e in tum_matrix.columns]\n",
    "tum_matrix.to_csv('endom_tum_fpkm.tsv',sep='\\t')"
   ]
  },
  {
   "cell_type": "code",
   "execution_count": 14,
   "id": "62955640",
   "metadata": {},
   "outputs": [],
   "source": [
    "norm_matrix.columns = [e[:-4] for e in norm_matrix.columns]\n",
    "norm_matrix.to_csv('blood_fpkm.tsv',sep='\\t')"
   ]
  },
  {
   "cell_type": "markdown",
   "id": "37c2dde0",
   "metadata": {},
   "source": [
    "### Feature Extraction \n",
    "Overexpression to be substitute with deseq 2 results\n"
   ]
  },
  {
   "cell_type": "markdown",
   "id": "607cde53",
   "metadata": {},
   "source": [
    "#### L1CAM"
   ]
  },
  {
   "cell_type": "code",
   "execution_count": 15,
   "id": "6477f087",
   "metadata": {},
   "outputs": [],
   "source": [
    "l1cam_high = tum_matrix.loc[:,tum_matrix.loc['L1CAM'] > tum_matrix.loc['L1CAM'].median()].columns.tolist()"
   ]
  },
  {
   "cell_type": "markdown",
   "id": "36c47acd",
   "metadata": {},
   "source": [
    "#### TP53"
   ]
  },
  {
   "cell_type": "code",
   "execution_count": 16,
   "id": "e74c6bd7",
   "metadata": {},
   "outputs": [],
   "source": [
    "tp53_high = tum_matrix.loc[:,tum_matrix.loc['TP53'] > tum_matrix.loc['TP53'].median()].columns.tolist()"
   ]
  },
  {
   "cell_type": "markdown",
   "id": "09cf73f4",
   "metadata": {},
   "source": [
    "# Mutation Data"
   ]
  },
  {
   "cell_type": "code",
   "execution_count": 17,
   "id": "b8edb7df",
   "metadata": {},
   "outputs": [],
   "source": [
    "campioni_maf=pd.read_csv('gdc_sample_sheet.2022-05-03.tsv',sep='\\t') # dataframe con nome campione + nome tcga (due colonne da fare a mano seguento i file txt nella cartella)"
   ]
  },
  {
   "cell_type": "markdown",
   "id": "d3ce0484",
   "metadata": {},
   "source": [
    "#### Mutation extraction and merge"
   ]
  },
  {
   "cell_type": "code",
   "execution_count": 18,
   "id": "4e102538",
   "metadata": {},
   "outputs": [],
   "source": [
    "multimaf=pd.DataFrame(columns=['Hugo_Symbol','Chromosome','Start_Position','End_Position','Variant_Classification','dbSNP_RS','t_depth','t_alt_count','VAF','CLIN_SIG','Tumor_Sample_Barcode','case_id'])\n",
    "pattern='masked.maf.gz' #definire pattern nel nome della matrice di espressione normalizzata\n",
    "folders = os.listdir(os.getcwd()+'/maf')\n",
    "folders.remove('.DS_Store')\n",
    "folders.remove('MANIFEST.txt')\n",
    "\n",
    "for subdir in folders:\n",
    "    files = os.listdir(os.getcwd()+'/maf/'+subdir)\n",
    "    filelist = [f for f in files if f.endswith(f'{pattern}')]\n",
    "    file = os.getcwd()+'/maf/'+subdir+'/'+filelist[0]\n",
    "    df_tmp=pd.read_csv(file,sep='\\t',skiprows=7)\n",
    "    df_tmp = df_tmp[['Hugo_Symbol','Chromosome','Start_Position','End_Position','Variant_Classification','dbSNP_RS','t_depth','t_alt_count','CLIN_SIG','Exon_Number','Tumor_Sample_Barcode','case_id']]\n",
    "    df_tmp['VAF'] = df_tmp['t_alt_count']/df_tmp['t_depth'] \n",
    "    #df_tmp = df_tmp[~(df_tmp['Hugo_Symbol'] == 'POLE') & (df_tmp['Exon_Number'].isna())]\n",
    "    df_tmp['Exon_Number'] = df_tmp['Exon_Number'].map(lambda x: str(x).split('/')[0])\n",
    "    multimaf = multimaf.append(df_tmp)"
   ]
  },
  {
   "cell_type": "markdown",
   "id": "56c3c150",
   "metadata": {},
   "source": [
    "#### Simplifying Pathogenicity Annotation (discrete to bynary)"
   ]
  },
  {
   "cell_type": "code",
   "execution_count": 19,
   "id": "ff2d81ae",
   "metadata": {},
   "outputs": [],
   "source": [
    "clinvar_bin = multimaf[multimaf['CLIN_SIG'].str.contains('pathogen',na=False)]\n",
    "clinvar_bin['Pathogenicity'] = 1\n",
    "multimaf = multimaf.merge(clinvar_bin,how='outer')"
   ]
  },
  {
   "cell_type": "markdown",
   "id": "ddb09adf",
   "metadata": {},
   "source": [
    "#### Filtering by VAF > 5%"
   ]
  },
  {
   "cell_type": "code",
   "execution_count": 20,
   "id": "9ffd9187",
   "metadata": {},
   "outputs": [],
   "source": [
    "multimaf = multimaf[multimaf['VAF']>0.05]"
   ]
  },
  {
   "cell_type": "code",
   "execution_count": 21,
   "id": "dd10591e",
   "metadata": {},
   "outputs": [],
   "source": [
    "multimaf.to_csv('multimaf.tsv',sep='\\t')"
   ]
  },
  {
   "cell_type": "markdown",
   "id": "1011e4eb",
   "metadata": {},
   "source": [
    "### Feature Extraction"
   ]
  },
  {
   "cell_type": "markdown",
   "id": "226367f1",
   "metadata": {},
   "source": [
    "#### TMB"
   ]
  },
  {
   "cell_type": "code",
   "execution_count": 22,
   "id": "c89dd248",
   "metadata": {},
   "outputs": [],
   "source": [
    "exome_bases = 30*(10**6)\n",
    "tmb_samples = {}\n",
    "ids = set(multimaf['Tumor_Sample_Barcode'].tolist())\n",
    "for sample in ids:\n",
    "    n_mut=len(multimaf[multimaf['Tumor_Sample_Barcode']==sample])\n",
    "    tmb = (n_mut * 10**6)/exome_bases\n",
    "    sample_short = sample.split('-01A-')[0]\n",
    "    tmb_samples[sample_short] = tmb"
   ]
  },
  {
   "cell_type": "code",
   "execution_count": 23,
   "id": "68cb27f0",
   "metadata": {},
   "outputs": [],
   "source": [
    "tmb = pd.DataFrame.from_dict([tmb_samples.keys(),tmb_samples.values()]).T"
   ]
  },
  {
   "cell_type": "code",
   "execution_count": 24,
   "id": "392db50c",
   "metadata": {},
   "outputs": [],
   "source": [
    "tmb.columns = ['Sample ID','TMB']\n",
    "tmb = tmb.drop_duplicates('Sample ID')"
   ]
  },
  {
   "cell_type": "markdown",
   "id": "69d54167",
   "metadata": {},
   "source": [
    "#### POLE, TP53, CTNNB1 mutant"
   ]
  },
  {
   "cell_type": "code",
   "execution_count": 25,
   "id": "dc9c82f8",
   "metadata": {},
   "outputs": [],
   "source": [
    "pole_case_ids = multimaf[multimaf['Variant_Classification']=='Missense_Mutation'][multimaf['Exon_Number'].isin(['9','10','11','12','13','14'])][multimaf['Hugo_Symbol'].isin(['POLE'])]['case_id'].tolist()\n",
    "tp53_case_ids = multimaf[multimaf['Variant_Classification']=='Missense_Mutation'][multimaf['Hugo_Symbol'].isin(['TP53'])]['case_id'].tolist()\n",
    "ctnnb1_case_ids = multimaf[multimaf['Variant_Classification']=='Missense_Mutation'][multimaf['Hugo_Symbol'].isin(['CTNNB1'])]['case_id'].tolist()"
   ]
  },
  {
   "cell_type": "markdown",
   "id": "9e81f63a",
   "metadata": {},
   "source": [
    "#### MSI"
   ]
  },
  {
   "cell_type": "code",
   "execution_count": 26,
   "id": "e8229543",
   "metadata": {},
   "outputs": [],
   "source": [
    "ACVR2A = multimaf[multimaf['Variant_Classification']=='Missense_Mutation'][multimaf['Hugo_Symbol'].isin(['ACVR2A'])]['case_id'].tolist()\n",
    "BTBD7 = multimaf[multimaf['Variant_Classification']=='Missense_Mutation'][multimaf['Hugo_Symbol'].isin(['BTBD7'])]['case_id'].tolist()\n",
    "DIDO1 = multimaf[multimaf['Variant_Classification']=='Missense_Mutation'][multimaf['Hugo_Symbol'].isin(['DIDO1'])]['case_id'].tolist()\n",
    "MRE11 = multimaf[multimaf['Variant_Classification']=='Missense_Mutation'][multimaf['Hugo_Symbol'].isin(['MRE11'])]['case_id'].tolist()\n",
    "RYR3 = multimaf[multimaf['Variant_Classification']=='Missense_Mutation'][multimaf['Hugo_Symbol'].isin(['RYR3'])]['case_id'].tolist()\n",
    "SEC31A = multimaf[multimaf['Variant_Classification']=='Missense_Mutation'][multimaf['Hugo_Symbol'].isin(['SEC31A'])]['case_id'].tolist()\n",
    "SULF2 = multimaf[multimaf['Variant_Classification']=='Missense_Mutation'][multimaf['Hugo_Symbol'].isin(['SULF2'])]['case_id'].tolist()"
   ]
  },
  {
   "cell_type": "code",
   "execution_count": 27,
   "id": "f2dde679",
   "metadata": {},
   "outputs": [],
   "source": [
    "msi_case_ids = set(ACVR2A).union(set(BTBD7)).union(set(DIDO1)).union(set(MRE11)).union(set(RYR3)).union(set(SEC31A)).union(set(SULF2))"
   ]
  },
  {
   "cell_type": "markdown",
   "id": "bf8a7459",
   "metadata": {},
   "source": [
    "# Molecular + Clinical Data"
   ]
  },
  {
   "cell_type": "code",
   "execution_count": 290,
   "id": "18d18522",
   "metadata": {},
   "outputs": [],
   "source": [
    "clinical = pd.read_csv('clinical.tsv',sep='\\t')\n",
    "clinical = clinical[clinical['primary_diagnosis'] == 'Endometrioid adenocarcinoma, NOS']\n",
    "clinical = clinical.merge(tmb, right_on = 'Sample ID',left_on = 'case_submitter_id')"
   ]
  },
  {
   "cell_type": "markdown",
   "id": "51c358fd",
   "metadata": {},
   "source": [
    "### TMB"
   ]
  },
  {
   "cell_type": "code",
   "execution_count": 291,
   "id": "2c0db40c",
   "metadata": {},
   "outputs": [],
   "source": [
    "clinical = clinical.drop('TMB',axis=1)\n",
    "clinical = clinical.merge(tmb,how='outer', left_on = 'Sample ID', right_on = 'Sample ID')\n",
    "clinical['TMB_high'] = clinical['TMB'] > clinical['TMB'].median()\n",
    "#clical = clinical.drop_duplicates('Sample ID')"
   ]
  },
  {
   "cell_type": "markdown",
   "id": "26ac81a3",
   "metadata": {},
   "source": [
    "### POLE, TP53, CTNNB1 and L1CAM\n",
    "Feature Generation"
   ]
  },
  {
   "cell_type": "code",
   "execution_count": 292,
   "id": "67bfe722",
   "metadata": {},
   "outputs": [],
   "source": [
    "TP53, POLE, CTNNB1, L1CAM, MSI = [],[],[],[],[]\n",
    "for sample_id, case_id, tmbH, figo in zip(clinical['Sample ID'].tolist(),clinical['case_id'].tolist(),clinical['TMB_high'].tolist(),clinical['figo_stage'].tolist()):\n",
    "    \n",
    "    if figo in ['Stage II','Stage IIA','Stage IIB','Stage IIC''Stage I','Stage IA','Stage IB','Stage IC']:\n",
    "        lowgrade = True\n",
    "    else:\n",
    "        lowgrade = False\n",
    "    \n",
    "    if sample_id in tp53_high and tmbH == True:\n",
    "        TP53.append(1)\n",
    "    elif case_id in tp53_case_ids and tmbH == True:\n",
    "        TP53.append(1)\n",
    "    else: \n",
    "        TP53.append(0)\n",
    "    \n",
    "    if case_id in pole_case_ids and tmbH == True:\n",
    "        POLE.append(1)\n",
    "    else:\n",
    "        POLE.append(0)\n",
    "        \n",
    "    if case_id in ctnnb1_case_ids and lowgrade == True:\n",
    "        CTNNB1.append(1)\n",
    "    else:\n",
    "        CTNNB1.append(0)\n",
    "    \n",
    "    if case_id not in tp53_case_ids and case_id in l1cam_high:\n",
    "        L1CAM.append(1)\n",
    "    else:\n",
    "        L1CAM.append(0)  \n",
    "    \n",
    "    if case_id in msi_case_ids:\n",
    "        MSI.append(1)\n",
    "    else:\n",
    "        MSI.append(0)"
   ]
  },
  {
   "cell_type": "code",
   "execution_count": 293,
   "id": "113bed3b",
   "metadata": {},
   "outputs": [],
   "source": [
    "clinical['TP53'] = TP53\n",
    "clinical['POLE'] = POLE\n",
    "clinical['CTNNB1'] = CTNNB1\n",
    "clinical['L1CAM'] = L1CAM\n",
    "clinical['MSI'] = MSI"
   ]
  },
  {
   "cell_type": "code",
   "execution_count": 294,
   "id": "acf50781",
   "metadata": {},
   "outputs": [],
   "source": [
    "clinical = clinical[['Sample ID','gender','race','age_at_diagnosis','figo_stage','primary_diagnosis','prior_malignancy','treatment_or_therapy','prior_treatment','year_of_diagnosis','treatment_type','TP53','POLE','CTNNB1','L1CAM','MSI','TMB_high','TMB']]"
   ]
  },
  {
   "cell_type": "markdown",
   "id": "b512cc54",
   "metadata": {},
   "source": [
    "### Cybersort\n",
    "- Signature matrix file: LM22.update-gene-symbols.txt\n",
    "- Mixture file: endom_tum_fpkm.tsv\n",
    "- Batch correction: enabled\n",
    "- Batch correction mode: B-mode\n",
    "- Source GEP file used for batch correction: LM22.update-gene-symbols.txt\n",
    "- Disable quantile normalization: true\n",
    "- Run mode (relative or absolute): relative\n",
    "- Permutations: 50"
   ]
  },
  {
   "cell_type": "code",
   "execution_count": 295,
   "id": "932bc191",
   "metadata": {},
   "outputs": [],
   "source": [
    "cyber = pd.read_csv('CIBERSORTx_Job4_Results.csv')\n",
    "cyber = cyber[['Mixture', 'B cells naive', 'B cells memory', 'Plasma cells',\n",
    "       'T cells CD8', 'T cells CD4 naive', 'T cells CD4 memory resting',\n",
    "       'T cells CD4 memory activated', 'T cells follicular helper',\n",
    "       'T cells regulatory (Tregs)', 'T cells gamma delta', 'NK cells resting',\n",
    "       'NK cells activated', 'Monocytes', 'Macrophages M0', 'Macrophages M1',\n",
    "       'Macrophages M2', 'Dendritic cells resting',\n",
    "       'Dendritic cells activated', 'Mast cells resting',\n",
    "       'Mast cells activated', 'Eosinophils', 'Neutrophils']]"
   ]
  },
  {
   "cell_type": "code",
   "execution_count": 296,
   "id": "10f6bab3",
   "metadata": {},
   "outputs": [],
   "source": [
    "clinical = clinical.merge(cyber,left_on='Sample ID',right_on='Mixture',how='inner')"
   ]
  },
  {
   "cell_type": "markdown",
   "id": "bf8299a4",
   "metadata": {},
   "source": [
    "### Signatures"
   ]
  },
  {
   "cell_type": "code",
   "execution_count": 297,
   "id": "71f900d7",
   "metadata": {},
   "outputs": [],
   "source": [
    "normals = pd.read_csv('output/blood_fpkm.tsv',sep='\\t',index_col=0)\n",
    "tumor = pd.read_csv('output/endom_tum_fpkm.tsv',sep='\\t',index_col=0)"
   ]
  },
  {
   "cell_type": "code",
   "execution_count": 298,
   "id": "eeba7272",
   "metadata": {},
   "outputs": [],
   "source": [
    "IFNg6 = ['IDO1','CXCL10','CXCL9','HLA-DRA','IFNG','STAT1']\n",
    "IFNgei18 = ['CD3D','IL2RG','NKG7','CIITA','HLA-E','CD3E','CXCR6','CCL5','LAG3','TAGAP','GZMK','CD2', 'IDO1','CXCL10','HLA-DRA','STAT1','CXCL13','GZMB']\n",
    "effTcell = ['GZMA','GZMB','PRF1','IFNG','EOMES', 'CD8A']\n",
    "IFNg_effTcell = ['CD8A', 'GZMA', 'GZMB', 'IFNG', 'EOMES', 'CXCL9', 'CXCL10', 'TBX21']\n",
    "chemok = ['CCL2', 'CCL3', 'CCL4', 'CCL5', 'CCL8', 'CCL18', 'CCL19', 'CCL21', 'CXCL9', 'CXCL10', 'CXCL11', 'CXCL13']\n",
    "TGFb = ['ACTA2', 'ACTG2', 'ADAM12', 'ADAM19', 'CNN1', 'COL4A1', 'CCN2', 'CTPS1', 'RFLNB', 'FSTL3', 'HSPB1', 'IGFBP3', 'PXDC1', 'SEMA7A', 'SH3PXD2A', 'TAGLN', 'TGFBI', 'TNS1', 'TPM1']\n",
    "bCatenin = ['EFNB3','APC2','TCF7','MYC','TCF12','VEGFA']\n",
    "MPS = ['AKR1C3', 'BMP1', 'CRTAC1', 'ECEL1', 'ERC2', 'FAM110C', 'FUT9', 'GABRA2', 'GAP43', 'GREM1', 'HECW1', 'KLHL1', 'KRT12', 'LHFPL4', 'NEFL', 'NEFM', 'NETO1', 'NKX2-2', 'NSG2', 'OCIAD2', 'OTOP1', 'PDE3B', 'PTPRN2', 'PTPRT', 'SIGLEC15', 'SLC13A5', 'SLC9A2', 'SLITRK6', 'SNAP91', 'STON2', 'TAC1', 'VAT1L', 'WNT5A', 'ALX1', 'BRD7', 'DTD1', 'GRSF1', 'HCN1', 'LTA4H', 'OXCT1', 'PATJ', 'PLXNC1', 'SSBP4', 'TELO2', 'TMEM177']\n",
    "bruno_sig = ['NLRP3','CXCL12','CCL2','CCL20','IL1B','CXCL9','CXCL10','CCL5','IL10','IL15','IL18','PDCD1','CCL3','CCL4','EBI3']\n",
    "signature_names = ['IFNg6','IFNgei18','effTcell','IFNg_effTcell','chemok','TGFb','bCatenin','MPS','bruno_sig']"
   ]
  },
  {
   "cell_type": "code",
   "execution_count": 299,
   "id": "450ddd1e",
   "metadata": {},
   "outputs": [],
   "source": [
    "i= 0\n",
    "for signature in [IFNg6,IFNgei18,effTcell,IFNg_effTcell,chemok,TGFb,bCatenin,MPS,bruno_sig]:\n",
    "    signature_name = signature_names[i]\n",
    "    subset = tumor.loc[signature]+1\n",
    "    gmean = stats.gmean(subset.iloc[:,:],axis=0).tolist()\n",
    "    subset.loc['gmean'] = gmean\n",
    "    l = []\n",
    "    for sample in clinical['Sample ID'].tolist():\n",
    "        l.append(subset[sample]['gmean'])\n",
    "    clinical[signature_name] = l\n",
    "    i+=1"
   ]
  },
  {
   "cell_type": "markdown",
   "id": "8dcaa1fa",
   "metadata": {},
   "source": [
    "### Survival Info"
   ]
  },
  {
   "cell_type": "code",
   "execution_count": 300,
   "id": "03997f86",
   "metadata": {},
   "outputs": [],
   "source": [
    "final = survival.merge(clinical,left_on='Patient ID',right_on='Sample ID').drop(['age_at_diagnosis','gender','primary_diagnosis','Mixture','Sample ID'],axis=1)\n",
    "final = final[final['Patient ID'] != 'TCGA-B5-A1MR']"
   ]
  },
  {
   "cell_type": "markdown",
   "id": "64c7e610",
   "metadata": {},
   "source": [
    "### Treatment"
   ]
  },
  {
   "cell_type": "code",
   "execution_count": 301,
   "id": "7576cd7e",
   "metadata": {},
   "outputs": [],
   "source": [
    "pha = final[(final['treatment_or_therapy'] == 'yes') & (final['treatment_type'] == 'Pharmaceutical Therapy, NOS')]['Patient ID'].tolist()"
   ]
  },
  {
   "cell_type": "code",
   "execution_count": 302,
   "id": "3d903925",
   "metadata": {},
   "outputs": [],
   "source": [
    "rad = final[(final['treatment_or_therapy'] == 'yes') & (final['treatment_type'] == 'Radiation Therapy, NOS')]['Patient ID'].tolist()"
   ]
  },
  {
   "cell_type": "code",
   "execution_count": 303,
   "id": "c80a59d6",
   "metadata": {},
   "outputs": [],
   "source": [
    "test = pd.DataFrame(final[(final['treatment_or_therapy'] == 'yes')]['Patient ID'].value_counts())\n",
    "both = test[test['Patient ID']>=2].index.tolist()"
   ]
  },
  {
   "cell_type": "code",
   "execution_count": 304,
   "id": "7f0b085a",
   "metadata": {},
   "outputs": [],
   "source": [
    "test = pd.DataFrame(final[(final['treatment_or_therapy'] == 'no')]['Patient ID'].value_counts())\n",
    "neither = test[test['Patient ID']>=2].index.tolist()"
   ]
  },
  {
   "cell_type": "code",
   "execution_count": 305,
   "id": "9d3fac65",
   "metadata": {},
   "outputs": [],
   "source": [
    "pha = list(set(pha).difference(set(both)))\n",
    "rad = list(set(rad).difference(set(both)))"
   ]
  },
  {
   "cell_type": "code",
   "execution_count": 306,
   "id": "4a704754",
   "metadata": {},
   "outputs": [],
   "source": [
    "t = ['both']*len(both) + ['neither']*len(neither) + ['rad']*len(rad) + ['pha']*len(pha)\n",
    "p = both + neither + rad + pha\n",
    "treat_df = pd.DataFrame([p,t],index=['Patient ID','treatment']).T"
   ]
  },
  {
   "cell_type": "code",
   "execution_count": 307,
   "id": "61c53dad",
   "metadata": {},
   "outputs": [],
   "source": [
    "final = final.drop(['treatment_or_therapy','treatment_type'],axis=1)\n",
    "final = final.drop_duplicates()"
   ]
  },
  {
   "cell_type": "code",
   "execution_count": 308,
   "id": "6d2ecc36",
   "metadata": {},
   "outputs": [],
   "source": [
    "final = final.merge(treat_df, on='Patient ID')"
   ]
  },
  {
   "cell_type": "markdown",
   "id": "0e0f6183",
   "metadata": {},
   "source": [
    "## Export"
   ]
  },
  {
   "cell_type": "code",
   "execution_count": 311,
   "id": "909371ff",
   "metadata": {},
   "outputs": [
    {
     "ename": "KeyError",
     "evalue": "\"None of ['Patient ID'] are in the columns\"",
     "output_type": "error",
     "traceback": [
      "\u001b[0;31m---------------------------------------------------------------------------\u001b[0m",
      "\u001b[0;31mKeyError\u001b[0m                                  Traceback (most recent call last)",
      "Input \u001b[0;32mIn [311]\u001b[0m, in \u001b[0;36m<module>\u001b[0;34m\u001b[0m\n\u001b[0;32m----> 1\u001b[0m final \u001b[38;5;241m=\u001b[39m \u001b[43mfinal\u001b[49m\u001b[38;5;241;43m.\u001b[39;49m\u001b[43mset_index\u001b[49m\u001b[43m(\u001b[49m\u001b[38;5;124;43m'\u001b[39;49m\u001b[38;5;124;43mPatient ID\u001b[39;49m\u001b[38;5;124;43m'\u001b[39;49m\u001b[43m)\u001b[49m\n\u001b[1;32m      2\u001b[0m final\u001b[38;5;241m.\u001b[39mto_csv(\u001b[38;5;124m'\u001b[39m\u001b[38;5;124mfinal.csv\u001b[39m\u001b[38;5;124m'\u001b[39m)\n",
      "File \u001b[0;32m~/miniconda3/lib/python3.9/site-packages/pandas/util/_decorators.py:311\u001b[0m, in \u001b[0;36mdeprecate_nonkeyword_arguments.<locals>.decorate.<locals>.wrapper\u001b[0;34m(*args, **kwargs)\u001b[0m\n\u001b[1;32m    305\u001b[0m \u001b[38;5;28;01mif\u001b[39;00m \u001b[38;5;28mlen\u001b[39m(args) \u001b[38;5;241m>\u001b[39m num_allow_args:\n\u001b[1;32m    306\u001b[0m     warnings\u001b[38;5;241m.\u001b[39mwarn(\n\u001b[1;32m    307\u001b[0m         msg\u001b[38;5;241m.\u001b[39mformat(arguments\u001b[38;5;241m=\u001b[39marguments),\n\u001b[1;32m    308\u001b[0m         \u001b[38;5;167;01mFutureWarning\u001b[39;00m,\n\u001b[1;32m    309\u001b[0m         stacklevel\u001b[38;5;241m=\u001b[39mstacklevel,\n\u001b[1;32m    310\u001b[0m     )\n\u001b[0;32m--> 311\u001b[0m \u001b[38;5;28;01mreturn\u001b[39;00m \u001b[43mfunc\u001b[49m\u001b[43m(\u001b[49m\u001b[38;5;241;43m*\u001b[39;49m\u001b[43margs\u001b[49m\u001b[43m,\u001b[49m\u001b[43m \u001b[49m\u001b[38;5;241;43m*\u001b[39;49m\u001b[38;5;241;43m*\u001b[39;49m\u001b[43mkwargs\u001b[49m\u001b[43m)\u001b[49m\n",
      "File \u001b[0;32m~/miniconda3/lib/python3.9/site-packages/pandas/core/frame.py:5496\u001b[0m, in \u001b[0;36mDataFrame.set_index\u001b[0;34m(self, keys, drop, append, inplace, verify_integrity)\u001b[0m\n\u001b[1;32m   5493\u001b[0m                 missing\u001b[38;5;241m.\u001b[39mappend(col)\n\u001b[1;32m   5495\u001b[0m \u001b[38;5;28;01mif\u001b[39;00m missing:\n\u001b[0;32m-> 5496\u001b[0m     \u001b[38;5;28;01mraise\u001b[39;00m \u001b[38;5;167;01mKeyError\u001b[39;00m(\u001b[38;5;124mf\u001b[39m\u001b[38;5;124m\"\u001b[39m\u001b[38;5;124mNone of \u001b[39m\u001b[38;5;132;01m{\u001b[39;00mmissing\u001b[38;5;132;01m}\u001b[39;00m\u001b[38;5;124m are in the columns\u001b[39m\u001b[38;5;124m\"\u001b[39m)\n\u001b[1;32m   5498\u001b[0m \u001b[38;5;28;01mif\u001b[39;00m inplace:\n\u001b[1;32m   5499\u001b[0m     frame \u001b[38;5;241m=\u001b[39m \u001b[38;5;28mself\u001b[39m\n",
      "\u001b[0;31mKeyError\u001b[0m: \"None of ['Patient ID'] are in the columns\""
     ]
    }
   ],
   "source": [
    "final = final.set_index('Patient ID')\n",
    "final.to_csv('final.csv')"
   ]
  },
  {
   "cell_type": "markdown",
   "id": "4bfb2ed5",
   "metadata": {},
   "source": [
    "# Features Refinement"
   ]
  },
  {
   "cell_type": "code",
   "execution_count": 312,
   "id": "09087146",
   "metadata": {},
   "outputs": [],
   "source": [
    "cols_to_norm = ['Age',\n",
    "             'year_of_diagnosis',\n",
    "             'B cells naive',\n",
    "             'B cells memory',\n",
    "             'Plasma cells',\n",
    "             'T cells CD8',\n",
    "             'T cells CD4 naive',\n",
    "             'T cells CD4 memory resting',\n",
    "             'T cells CD4 memory activated',\n",
    "             'T cells follicular helper',\n",
    "             'T cells regulatory (Tregs)',\n",
    "             'T cells gamma delta',\n",
    "             'NK cells resting',\n",
    "             'NK cells activated',\n",
    "             'Monocytes',\n",
    "             'Macrophages M0',\n",
    "             'Macrophages M1',\n",
    "             'Macrophages M2',\n",
    "             'Dendritic cells resting',\n",
    "             'Dendritic cells activated',\n",
    "             'Mast cells resting',\n",
    "             'Mast cells activated',\n",
    "             'Eosinophils',\n",
    "             'Neutrophils',\n",
    "             'IFNg6',\n",
    "             'IFNgei18',\n",
    "             'effTcell',\n",
    "             'IFNg_effTcell',\n",
    "             'chemok',\n",
    "             'TGFb',\n",
    "             'bCatenin',\n",
    "             'MPS',\n",
    "             'bruno_sig',\n",
    "             'TMB']\n",
    "\n",
    "cols_to_convert = ['race',\n",
    "                  'figo_stage',\n",
    "                  'prior_malignancy',\n",
    "                  'prior_treatment',\n",
    "                  'treatment',\n",
    "                  'TMB_high']"
   ]
  },
  {
   "cell_type": "code",
   "execution_count": 313,
   "id": "4ba27b3f",
   "metadata": {},
   "outputs": [],
   "source": [
    "for col in cols_to_norm:\n",
    "    x = np.array(final[col])\n",
    "    min_max_scaler = preprocessing.MinMaxScaler()\n",
    "    x_scaled = min_max_scaler.fit_transform(x.reshape(-1,1))\n",
    "    final[col] = x_scaled"
   ]
  },
  {
   "cell_type": "code",
   "execution_count": 314,
   "id": "66e98bb6",
   "metadata": {},
   "outputs": [],
   "source": [
    "mapping = dict()\n",
    "for col in cols_to_convert:\n",
    "    mapping[col] = pd.factorize(final[col],sort=True)[1]\n",
    "    final[col] = pd.factorize(final[col],sort=True)[0] "
   ]
  },
  {
   "cell_type": "code",
   "execution_count": 315,
   "id": "ec6268f1",
   "metadata": {},
   "outputs": [
    {
     "data": {
      "text/plain": [
       "{'race': Index(['american indian or alaska native', 'asian',\n",
       "        'black or african american',\n",
       "        'native hawaiian or other pacific islander', 'not reported', 'white'],\n",
       "       dtype='object'),\n",
       " 'figo_stage': Index(['Stage I', 'Stage IA', 'Stage IB', 'Stage IC', 'Stage II', 'Stage IIA',\n",
       "        'Stage IIB', 'Stage III', 'Stage IIIA', 'Stage IIIB', 'Stage IIIC',\n",
       "        'Stage IIIC1', 'Stage IIIC2', 'Stage IV', 'Stage IVA', 'Stage IVB'],\n",
       "       dtype='object'),\n",
       " 'prior_malignancy': Index(['no', 'yes'], dtype='object'),\n",
       " 'prior_treatment': Index(['No'], dtype='object'),\n",
       " 'treatment': Index(['both', 'neither', 'pha', 'rad'], dtype='object'),\n",
       " 'TMB_high': Index([False, True], dtype='object')}"
      ]
     },
     "execution_count": 315,
     "metadata": {},
     "output_type": "execute_result"
    }
   ],
   "source": [
    "mapping"
   ]
  },
  {
   "cell_type": "code",
   "execution_count": 316,
   "id": "c364184d",
   "metadata": {},
   "outputs": [],
   "source": [
    "final = final[final['DFS_months'] > 0]\n",
    "final = final.reset_index()\n",
    "final = final.dropna()\n",
    "final = final.drop_duplicates(subset='Patient ID')"
   ]
  },
  {
   "cell_type": "code",
   "execution_count": 317,
   "id": "e3e18409",
   "metadata": {},
   "outputs": [],
   "source": [
    "final.to_csv('final_normalized.csv')"
   ]
  },
  {
   "cell_type": "markdown",
   "id": "9cce6348",
   "metadata": {},
   "source": [
    "# Data Exploration"
   ]
  },
  {
   "cell_type": "code",
   "execution_count": 261,
   "id": "1ac66083",
   "metadata": {
    "scrolled": true
   },
   "outputs": [
    {
     "data": {
      "text/plain": [
       "<AxesSubplot:>"
      ]
     },
     "execution_count": 261,
     "metadata": {},
     "output_type": "execute_result"
    },
    {
     "data": {
      "image/png": "[encoded data removed]",
      "text/plain": [
       "<Figure size 1080x1080 with 2 Axes>"
      ]
     },
     "metadata": {
      "needs_background": "light"
     },
     "output_type": "display_data"
    }
   ],
   "source": [
    "plt.subplots(figsize=(15, 15))\n",
    "sns.heatmap(abs(final.corr())>0.5)"
   ]
  },
  {
   "cell_type": "code",
   "execution_count": 200,
   "id": "16dfd2c8",
   "metadata": {},
   "outputs": [
    {
     "data": {
      "text/plain": [
       "<AxesSubplot:>"
      ]
     },
     "execution_count": 200,
     "metadata": {},
     "output_type": "execute_result"
    },
    {
     "data": {
      "image/png": "[encoded data removed]",
      "text/plain": [
       "<Figure size 1800x720 with 1 Axes>"
      ]
     },
     "metadata": {
      "needs_background": "light"
     },
     "output_type": "display_data"
    }
   ],
   "source": [
    "final[['TMB', 'B cells naive', 'B cells memory', 'Plasma cells', 'T cells CD8',\n",
    "       'T cells CD4 naive', 'T cells CD4 memory resting',\n",
    "       'T cells CD4 memory activated', 'T cells follicular helper',\n",
    "       'T cells regulatory (Tregs)', 'T cells gamma delta', 'NK cells resting',\n",
    "       'NK cells activated', 'Monocytes', 'Macrophages M0', 'Macrophages M1',\n",
    "       'Macrophages M2', 'Dendritic cells resting',\n",
    "       'Dendritic cells activated', 'Mast cells resting',\n",
    "       'Mast cells activated', 'Eosinophils', 'Neutrophils', 'IFNg6',\n",
    "       'IFNgei18', 'effTcell', 'IFNg_effTcell', 'chemok', 'TGFb', 'bCatenin',\n",
    "       'MPS', 'bruno_sig']].boxplot(figsize=(25,10),rot=90)"
   ]
  },
  {
   "cell_type": "code",
   "execution_count": 201,
   "id": "9ddab2a9",
   "metadata": {},
   "outputs": [
    {
     "name": "stdout",
     "output_type": "stream",
     "text": [
      "race\n",
      "5       243\n",
      "2        55\n",
      "1        17\n",
      "4        13\n",
      "3         6\n",
      "0         2\n",
      "dtype: int64\n",
      "figo_stage\n",
      "1             125\n",
      "2              97\n",
      "8              23\n",
      "4              22\n",
      "3              15\n",
      "10             10\n",
      "11             10\n",
      "15              8\n",
      "6               7\n",
      "12              6\n",
      "0               3\n",
      "5               3\n",
      "9               3\n",
      "7               2\n",
      "13              1\n",
      "14              1\n",
      "dtype: int64\n",
      "prior_malignancy\n",
      "0                   309\n",
      "1                    27\n",
      "dtype: int64\n",
      "prior_treatment\n",
      "No                 336\n",
      "dtype: int64\n",
      "treatment_type             \n",
      "Pharmaceutical Therapy, NOS    168\n",
      "Radiation Therapy, NOS         168\n",
      "dtype: int64\n",
      "TP53\n",
      "0       219\n",
      "1       117\n",
      "dtype: int64\n",
      "POLE\n",
      "0       290\n",
      "1        46\n",
      "dtype: int64\n",
      "CTNNB1\n",
      "0         249\n",
      "1          87\n",
      "dtype: int64\n",
      "L1CAM\n",
      "0        336\n",
      "dtype: int64\n",
      "MSI\n",
      "0      240\n",
      "1       96\n",
      "dtype: int64\n",
      "TMB_high\n",
      "1           176\n",
      "0           160\n",
      "dtype: int64\n"
     ]
    }
   ],
   "source": [
    "categorical = ['race', 'figo_stage','prior_malignancy', 'prior_treatment','treatment_type', \n",
    "               'TP53', 'POLE', 'CTNNB1', 'L1CAM', 'MSI', 'TMB_high']\n",
    "for e in categorical:\n",
    "    print(final[[e]].value_counts())"
   ]
  },
  {
   "cell_type": "code",
   "execution_count": null,
   "id": "f21f0bee",
   "metadata": {},
   "outputs": [],
   "source": []
  }
 ],
 "metadata": {
  "kernelspec": {
   "display_name": "Python 3",
   "language": "python",
   "name": "python3"
  },
  "language_info": {
   "codemirror_mode": {
    "name": "ipython",
    "version": 3
   },
   "file_extension": ".py",
   "mimetype": "text/x-python",
   "name": "python",
   "nbconvert_exporter": "python",
   "pygments_lexer": "ipython3",
   "version": "3.9.5"
  }
 },
 "nbformat": 4,
 "nbformat_minor": 5
}
